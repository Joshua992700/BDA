{
 "cells": [
  {
   "cell_type": "code",
   "execution_count": 3,
   "id": "16ea4710-3b56-4626-9690-4de9c1d998e1",
   "metadata": {},
   "outputs": [],
   "source": [
    "from pyspark import SparkContext\n",
    "from pyspark.sql import SparkSession\n",
    "from pyspark.sql.types import *\n",
    "from pyspark.sql.functions import *\n",
    "from pyspark.sql.types import Row\n",
    "from datetime import datetime"
   ]
  },
  {
   "cell_type": "code",
   "execution_count": 4,
   "id": "e74ded16-283e-4adc-9e86-74e0417e6023",
   "metadata": {},
   "outputs": [
    {
     "name": "stderr",
     "output_type": "stream",
     "text": [
      "Setting default log level to \"WARN\".\n",
      "To adjust logging level use sc.setLogLevel(newLevel). For SparkR, use setLogLevel(newLevel).\n",
      "24/11/18 06:18:28 WARN NativeCodeLoader: Unable to load native-hadoop library for your platform... using builtin-java classes where applicable\n"
     ]
    }
   ],
   "source": [
    "sc = SparkContext()"
   ]
  },
  {
   "cell_type": "code",
   "execution_count": 5,
   "id": "26d26436-8439-4d26-bd51-84b1b19baed0",
   "metadata": {},
   "outputs": [],
   "source": [
    "spark=SparkSession.builder.appName(\"Python Spark SQL basic example\").config(\"spark.some.config.option\",\"some-value\").getOrCreate()"
   ]
  },
  {
   "cell_type": "code",
   "execution_count": 6,
   "id": "f29d9e43-7206-43d5-a1b8-7b2f0ab29c36",
   "metadata": {},
   "outputs": [],
   "source": [
    "srecord=sc.parallelize([\n",
    "    Row(roll_no=1,name=\"Chandru\",passed=True,marks={'Math':89,'Physics':87,'Chemistry':96},sports=['chess','football'],DoB=datetime(2012,5,1,12,1,5)),\n",
    "    Row(roll_no=2,name=\"Arsath\",passed=False,marks={'Math':95,'Physics':66,'Chemistry':77},sports=['carrom','tennis'],DoB=datetime(2012,5,12,14,2,5)),\n",
    "    Row(roll_no=3,name=\"Bhuboo\",passed=True,marks={'Math':95,'Physics':100,'Chemistry':95},sports=['football','kabadi'],DoB=datetime(2012,5,14,12,2,5))\n",
    "])"
   ]
  },
  {
   "cell_type": "code",
   "execution_count": 7,
   "id": "cf8fccf0-3385-4102-bd46-1f473a5c5cd5",
   "metadata": {},
   "outputs": [
    {
     "name": "stderr",
     "output_type": "stream",
     "text": [
      "                                                                                \r"
     ]
    }
   ],
   "source": [
    "srdf=srecord.toDF()"
   ]
  },
  {
   "cell_type": "code",
   "execution_count": 8,
   "id": "74a69a15-0f7c-4da4-9be0-3139b014e709",
   "metadata": {},
   "outputs": [
    {
     "name": "stdout",
     "output_type": "stream",
     "text": [
      "+-------+-------+------+--------------------+------------------+-------------------+\n",
      "|roll_no|   name|passed|               marks|            sports|                DoB|\n",
      "+-------+-------+------+--------------------+------------------+-------------------+\n",
      "|      1|Chandru|  true|{Math -> 89, Chem...| [chess, football]|2012-05-01 12:01:05|\n",
      "|      2| Arsath| false|{Math -> 95, Chem...|  [carrom, tennis]|2012-05-12 14:02:05|\n",
      "|      3| Bhuboo|  true|{Math -> 95, Chem...|[football, kabadi]|2012-05-14 12:02:05|\n",
      "+-------+-------+------+--------------------+------------------+-------------------+\n",
      "\n"
     ]
    }
   ],
   "source": [
    "srdf.show()"
   ]
  },
  {
   "cell_type": "code",
   "execution_count": 9,
   "id": "23e25f5e-ffcc-4737-a5a2-48bf5cf19460",
   "metadata": {},
   "outputs": [],
   "source": [
    "srdf.createOrReplaceTempView('records')"
   ]
  },
  {
   "cell_type": "code",
   "execution_count": 10,
   "id": "5e9306a2-59ab-4f47-ada5-a035d186de31",
   "metadata": {},
   "outputs": [
    {
     "name": "stdout",
     "output_type": "stream",
     "text": [
      "+-------+-------+------+--------------------+------------------+-------------------+\n",
      "|roll_no|   name|passed|               marks|            sports|                DoB|\n",
      "+-------+-------+------+--------------------+------------------+-------------------+\n",
      "|      1|Chandru|  true|{Math -> 89, Chem...| [chess, football]|2012-05-01 12:01:05|\n",
      "|      2| Arsath| false|{Math -> 95, Chem...|  [carrom, tennis]|2012-05-12 14:02:05|\n",
      "|      3| Bhuboo|  true|{Math -> 95, Chem...|[football, kabadi]|2012-05-14 12:02:05|\n",
      "+-------+-------+------+--------------------+------------------+-------------------+\n",
      "\n"
     ]
    }
   ],
   "source": [
    "spark.sql(\"SELECT * FROM records\").show()"
   ]
  },
  {
   "cell_type": "code",
   "execution_count": 11,
   "id": "eb3a07ce-15aa-4366-b370-a1cd606f78a1",
   "metadata": {},
   "outputs": [
    {
     "data": {
      "text/plain": [
       "pyspark.sql.dataframe.DataFrame"
      ]
     },
     "execution_count": 11,
     "metadata": {},
     "output_type": "execute_result"
    },
    {
     "name": "stderr",
     "output_type": "stream",
     "text": [
      "24/11/18 06:18:46 WARN GarbageCollectionMetrics: To enable non-built-in garbage collector(s) List(G1 Concurrent GC), users should configure it(them) to spark.eventLog.gcMetrics.youngGenerationGarbageCollectors or spark.eventLog.gcMetrics.oldGenerationGarbageCollectors\n"
     ]
    }
   ],
   "source": [
    "re=spark.sql(\"SELECT * FROM records\")\n",
    "type(re)"
   ]
  },
  {
   "cell_type": "code",
   "execution_count": 12,
   "id": "e5630897-2eea-4085-9786-71a2d2003a7d",
   "metadata": {},
   "outputs": [
    {
     "name": "stdout",
     "output_type": "stream",
     "text": [
      "+-------+--------------+---------+\n",
      "|roll_no|marks[Physics]|sports[1]|\n",
      "+-------+--------------+---------+\n",
      "|      1|            87| football|\n",
      "|      2|            66|   tennis|\n",
      "|      3|           100|   kabadi|\n",
      "+-------+--------------+---------+\n",
      "\n"
     ]
    }
   ],
   "source": [
    "spark.sql('SELECT roll_no,marks[\"Physics\"],sports[1] FROM records').show()"
   ]
  },
  {
   "cell_type": "code",
   "execution_count": 13,
   "id": "f98da0bd-8212-4e71-abd9-d8a58b7de0bd",
   "metadata": {},
   "outputs": [
    {
     "name": "stdout",
     "output_type": "stream",
     "text": [
      "+-------+-------+------+--------------------+------------------+-------------------+\n",
      "|roll_no|   name|passed|               marks|            sports|                DoB|\n",
      "+-------+-------+------+--------------------+------------------+-------------------+\n",
      "|      1|Chandru|  true|{Math -> 89, Chem...| [chess, football]|2012-05-01 12:01:05|\n",
      "|      3| Bhuboo|  true|{Math -> 95, Chem...|[football, kabadi]|2012-05-14 12:02:05|\n",
      "+-------+-------+------+--------------------+------------------+-------------------+\n",
      "\n"
     ]
    }
   ],
   "source": [
    "spark.sql(\"SELECT * FROM records where passed= True\").show()"
   ]
  },
  {
   "cell_type": "code",
   "execution_count": 14,
   "id": "7bfb5427-17b9-4e75-aba1-c75c1d012698",
   "metadata": {},
   "outputs": [
    {
     "name": "stdout",
     "output_type": "stream",
     "text": [
      "+-------+----+------+-----+------+---+\n",
      "|roll_no|name|passed|marks|sports|DoB|\n",
      "+-------+----+------+-----+------+---+\n",
      "+-------+----+------+-----+------+---+\n",
      "\n"
     ]
    }
   ],
   "source": [
    "spark.sql('SELECT * FROM records where marks[\"Chemistry\"]<40').show()"
   ]
  },
  {
   "cell_type": "code",
   "execution_count": 15,
   "id": "24108455-f9b5-4b9e-8b74-3bd0693da3a0",
   "metadata": {},
   "outputs": [],
   "source": [
    "srdf.createGlobalTempView('globalrecord')"
   ]
  },
  {
   "cell_type": "code",
   "execution_count": 16,
   "id": "94c9878d-fb7f-4579-8d30-d99a08847c91",
   "metadata": {},
   "outputs": [
    {
     "name": "stdout",
     "output_type": "stream",
     "text": [
      "+-------+-------+------+--------------------+------------------+-------------------+\n",
      "|roll_no|   name|passed|               marks|            sports|                DoB|\n",
      "+-------+-------+------+--------------------+------------------+-------------------+\n",
      "|      1|Chandru|  true|{Math -> 89, Chem...| [chess, football]|2012-05-01 12:01:05|\n",
      "|      2| Arsath| false|{Math -> 95, Chem...|  [carrom, tennis]|2012-05-12 14:02:05|\n",
      "|      3| Bhuboo|  true|{Math -> 95, Chem...|[football, kabadi]|2012-05-14 12:02:05|\n",
      "+-------+-------+------+--------------------+------------------+-------------------+\n",
      "\n"
     ]
    }
   ],
   "source": [
    "spark.sql(\"SELECT * FROM global_temp.globalrecord\").show()"
   ]
  },
  {
   "cell_type": "code",
   "execution_count": 17,
   "id": "2ab4531f-7fb3-4724-950d-fb9e150fcf4d",
   "metadata": {},
   "outputs": [
    {
     "data": {
      "text/plain": [
       "['roll_no', 'name', 'passed', 'marks', 'sports', 'DoB']"
      ]
     },
     "execution_count": 17,
     "metadata": {},
     "output_type": "execute_result"
    }
   ],
   "source": [
    "srdf.columns"
   ]
  },
  {
   "cell_type": "code",
   "execution_count": 18,
   "id": "7d5897d4-64b7-42fc-ad1c-382d67231582",
   "metadata": {},
   "outputs": [],
   "source": [
    "srdf=srdf.drop('passed')"
   ]
  },
  {
   "cell_type": "code",
   "execution_count": 19,
   "id": "f9658909-38e3-4a9b-8597-72085f0aeb7c",
   "metadata": {},
   "outputs": [
    {
     "name": "stdout",
     "output_type": "stream",
     "text": [
      "+---------+\n",
      "|avg_marks|\n",
      "+---------+\n",
      "|     91.0|\n",
      "|     79.0|\n",
      "|     97.0|\n",
      "+---------+\n",
      "\n"
     ]
    }
   ],
   "source": [
    "spark.sql(\"SELECT round((marks.Physics+marks.Chemistry+marks.Math)/3)avg_marks FROM records\").show()"
   ]
  },
  {
   "cell_type": "code",
   "execution_count": 20,
   "id": "9e41b691-b919-486e-8b13-84c6220bd067",
   "metadata": {},
   "outputs": [],
   "source": [
    "srdf=spark.sql(\"SELECT *,round((marks.Physics+marks.Chemistry+marks.Math)/3)avg_marks FROM records\")"
   ]
  },
  {
   "cell_type": "code",
   "execution_count": 21,
   "id": "4a3e66cb-f563-44a3-a3d1-443fa037e6c6",
   "metadata": {},
   "outputs": [
    {
     "name": "stdout",
     "output_type": "stream",
     "text": [
      "+-------+-------+------+--------------------+------------------+-------------------+---------+\n",
      "|roll_no|   name|passed|               marks|            sports|                DoB|avg_marks|\n",
      "+-------+-------+------+--------------------+------------------+-------------------+---------+\n",
      "|      1|Chandru|  true|{Math -> 89, Chem...| [chess, football]|2012-05-01 12:01:05|     91.0|\n",
      "|      2| Arsath| false|{Math -> 95, Chem...|  [carrom, tennis]|2012-05-12 14:02:05|     79.0|\n",
      "|      3|Gowtham|  true|{Math -> 95, Chem...|[football, kabadi]|2012-05-14 12:02:05|     97.0|\n",
      "+-------+-------+------+--------------------+------------------+-------------------+---------+\n",
      "\n"
     ]
    }
   ],
   "source": [
    "srdf.show()"
   ]
  },
  {
   "cell_type": "code",
   "execution_count": null,
   "id": "15d85ad2-f12b-4263-829c-854ff0f97887",
   "metadata": {},
   "outputs": [],
   "source": []
  }
 ],
 "metadata": {
  "kernelspec": {
   "display_name": "Python 3 (ipykernel)",
   "language": "python",
   "name": "python3"
  },
  "language_info": {
   "codemirror_mode": {
    "name": "ipython",
    "version": 3
   },
   "file_extension": ".py",
   "mimetype": "text/x-python",
   "name": "python",
   "nbconvert_exporter": "python",
   "pygments_lexer": "ipython3",
   "version": "3.12.7"
  }
 },
 "nbformat": 4,
 "nbformat_minor": 5
}
